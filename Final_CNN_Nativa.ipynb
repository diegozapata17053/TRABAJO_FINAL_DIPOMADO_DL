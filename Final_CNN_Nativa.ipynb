{
  "nbformat": 4,
  "nbformat_minor": 0,
  "metadata": {
    "colab": {
      "name": "Final_CNN_Nativa.ipynb",
      "version": "0.3.2",
      "provenance": [],
      "collapsed_sections": []
    },
    "kernelspec": {
      "name": "python3",
      "display_name": "Python 3"
    },
    "accelerator": "GPU"
  },
  "cells": [
    {
      "metadata": {
        "id": "jKCiIcXlenRn",
        "colab_type": "code",
        "outputId": "d8acbd2e-64e4-4fe5-a00f-ac385c20bad2",
        "colab": {
          "base_uri": "https://localhost:8080/",
          "height": 125
        }
      },
      "cell_type": "code",
      "source": [
        "from google.colab import drive\n",
        "drive.mount('/content/drive')"
      ],
      "execution_count": 1,
      "outputs": [
        {
          "output_type": "stream",
          "text": [
            "Go to this URL in a browser: https://accounts.google.com/o/oauth2/auth?client_id=947318989803-6bn6qk8qdgf4n4g3pfee6491hc0brc4i.apps.googleusercontent.com&redirect_uri=urn%3Aietf%3Awg%3Aoauth%3A2.0%3Aoob&scope=email%20https%3A%2F%2Fwww.googleapis.com%2Fauth%2Fdocs.test%20https%3A%2F%2Fwww.googleapis.com%2Fauth%2Fdrive%20https%3A%2F%2Fwww.googleapis.com%2Fauth%2Fdrive.photos.readonly%20https%3A%2F%2Fwww.googleapis.com%2Fauth%2Fpeopleapi.readonly&response_type=code\n",
            "\n",
            "Enter your authorization code:\n",
            "··········\n",
            "Mounted at /content/drive\n"
          ],
          "name": "stdout"
        }
      ]
    },
    {
      "metadata": {
        "id": "SEsd_mWNgUg3",
        "colab_type": "code",
        "outputId": "03813046-ab94-4fc1-95c6-1ec14f036ed8",
        "colab": {
          "base_uri": "https://localhost:8080/",
          "height": 34
        }
      },
      "cell_type": "code",
      "source": [
        "cd drive/My Drive/P_Proyecto _Final/Final"
      ],
      "execution_count": 2,
      "outputs": [
        {
          "output_type": "stream",
          "text": [
            "/content/drive/My Drive/P_Proyecto _Final/Final\n"
          ],
          "name": "stdout"
        }
      ]
    },
    {
      "metadata": {
        "id": "sD0LnbiwgUxf",
        "colab_type": "code",
        "outputId": "493fafb2-1805-40a7-9545-f01b94ecb1f1",
        "colab": {
          "base_uri": "https://localhost:8080/",
          "height": 34
        }
      },
      "cell_type": "code",
      "source": [
        "!ls"
      ],
      "execution_count": 3,
      "outputs": [
        {
          "output_type": "stream",
          "text": [
            "cnn_utils.py  datasets\tFinal_CNN.ipynb  pq  Pro.ipynb\t__pycache__\n"
          ],
          "name": "stdout"
        }
      ]
    },
    {
      "metadata": {
        "id": "bEQPaUCqf27U",
        "colab_type": "code",
        "colab": {}
      },
      "cell_type": "code",
      "source": [
        "import numpy as np\n",
        "import h5py\n",
        "import matplotlib.pyplot as plt\n",
        "import scipy\n",
        "\n",
        "from PIL import Image\n",
        "from scipy import ndimage\n",
        "import tensorflow as tf\n",
        "from tensorflow.python.framework import ops\n",
        "#from cnn_utils import *\n",
        "from cnn_utils import load_dataset\n",
        "from cnn_utils import random_mini_batches\n",
        "from cnn_utils import convert_to_one_hot\n",
        "from cnn_utils import forward_propagation_for_predict\n",
        "from cnn_utils import predict\n",
        "\n",
        "X_train_orig, Y_train_orig, X_test_orig, Y_test_orig, classes = load_dataset()      # Cargar la base de datos"
      ],
      "execution_count": 0,
      "outputs": []
    },
    {
      "metadata": {
        "id": "z9ZcQ2Tses_K",
        "colab_type": "code",
        "outputId": "d2033ea7-cf87-467b-e5f7-84bba1f9d547",
        "colab": {
          "base_uri": "https://localhost:8080/",
          "height": 366
        }
      },
      "cell_type": "code",
      "source": [
        "# Visualizar unos de los ejemplos de la base de datos\n",
        "\n",
        "index = 6\n",
        "plt.figure(1)\n",
        "plt.imshow(X_train_orig[index])\n",
        "print (\"y = \" + str(np.squeeze(Y_train_orig[:, index])))"
      ],
      "execution_count": 5,
      "outputs": [
        {
          "output_type": "stream",
          "text": [
            "y = 3\n"
          ],
          "name": "stdout"
        },
        {
          "output_type": "display_data",
          "data": {
            "image/png": "[encoded data removed]",
            "text/plain": [
              "<Figure size 576x396 with 1 Axes>"
            ]
          },
          "metadata": {
            "tags": []
          }
        }
      ]
    },
    {
      "metadata": {
        "id": "1lTnKGet0EJk",
        "colab_type": "code",
        "outputId": "1aebe5e2-7b34-4f84-8174-888eb37bd139",
        "colab": {
          "base_uri": "https://localhost:8080/",
          "height": 366
        }
      },
      "cell_type": "code",
      "source": [
        "index = 150\n",
        "plt.figure(1)\n",
        "plt.imshow(X_train_orig[index])\n",
        "print (\"y = \" + str(np.squeeze(Y_train_orig[:, index])))"
      ],
      "execution_count": 6,
      "outputs": [
        {
          "output_type": "stream",
          "text": [
            "y = 1\n"
          ],
          "name": "stdout"
        },
        {
          "output_type": "display_data",
          "data": {
            "image/png": "[encoded data removed]",
            "text/plain": [
              "<Figure size 576x396 with 1 Axes>"
            ]
          },
          "metadata": {
            "tags": []
          }
        }
      ]
    },
    {
      "metadata": {
        "id": "FgQSAX7LetCM",
        "colab_type": "code",
        "outputId": "60807c0f-d918-46ec-bc2b-930b940aeb49",
        "colab": {
          "base_uri": "https://localhost:8080/",
          "height": 123
        }
      },
      "cell_type": "code",
      "source": [
        "\n",
        "# imprimir características de la base de datos\n",
        "X_train = X_train_orig/255.\n",
        "X_test = X_test_orig/255.\n",
        "Y_train = convert_to_one_hot(Y_train_orig, 6).T\n",
        "Y_test = convert_to_one_hot(Y_test_orig, 6).T\n",
        "print (\"Número de ejemplos de entrenamiento: \" + str(X_train.shape[0]))\n",
        "print (\"Número de ejemplos de testing: \" + str(X_test.shape[0]))\n",
        "print (\"X_train shape: \" + str(X_train.shape))\n",
        "print (\"Y_train shape: \" + str(Y_train.shape))\n",
        "print (\"X_test shape: \" + str(X_test.shape))\n",
        "print (\"Y_test shape: \" + str(Y_test.shape))\n",
        "conv_layers = {}"
      ],
      "execution_count": 7,
      "outputs": [
        {
          "output_type": "stream",
          "text": [
            "Número de ejemplos de entrenamiento: 26539\n",
            "Número de ejemplos de testing: 6635\n",
            "X_train shape: (26539, 64, 64, 3)\n",
            "Y_train shape: (26539, 6)\n",
            "X_test shape: (6635, 64, 64, 3)\n",
            "Y_test shape: (6635, 6)\n"
          ],
          "name": "stdout"
        }
      ]
    },
    {
      "metadata": {
        "id": "fnfugSzletFA",
        "colab_type": "code",
        "colab": {}
      },
      "cell_type": "code",
      "source": [
        "def create_placeholders(n_H0, n_W0, n_C0, n_y):\n",
        "    \"\"\"\n",
        "    Crea los placeholders para la sesión.\n",
        "    \n",
        "    Argumentos:\n",
        "    n_H0 -- Escalar, height de la imagen de entrada\n",
        "    n_W0 -- Escalar, width de la imagen de entrada\n",
        "    n_C0 -- Escalar, Número de canales de entrada\n",
        "    n_y -- Escalar, Número de clases\n",
        "        \n",
        "    Returna:\n",
        "    X -- placeholder para los datos de entrada, de tamaño [None, n_H0, n_W0, n_C0] y dtype \"float\"\n",
        "    Y -- placeholder para las etiquetas de entrada, de tamaño [None, n_y] y dtype \"float\"\n",
        "    \"\"\"\n",
        "\n",
        "    #### Haga su código áca ### (≈2 lines)  usar tf.placeholder\n",
        "\n",
        "    X = tf.placeholder(tf.float32,shape=(None,n_H0, n_W0, n_C0))\n",
        "    Y = tf.placeholder(tf.float32,shape=(None,n_y))\n",
        "    \n",
        "    ### Fin ###\n",
        "    \n",
        "    return X, Y"
      ],
      "execution_count": 0,
      "outputs": []
    },
    {
      "metadata": {
        "id": "cbpbl3CKetHZ",
        "colab_type": "code",
        "outputId": "390ac21c-ca0b-40e3-b247-f915634242ee",
        "colab": {
          "base_uri": "https://localhost:8080/",
          "height": 52
        }
      },
      "cell_type": "code",
      "source": [
        "X, Y = create_placeholders(64, 64, 3, 6)\n",
        "print (\"X = \" + str(X))\n",
        "print (\"Y = \" + str(Y))"
      ],
      "execution_count": 9,
      "outputs": [
        {
          "output_type": "stream",
          "text": [
            "X = Tensor(\"Placeholder:0\", shape=(?, 64, 64, 3), dtype=float32)\n",
            "Y = Tensor(\"Placeholder_1:0\", shape=(?, 6), dtype=float32)\n"
          ],
          "name": "stdout"
        }
      ]
    },
    {
      "metadata": {
        "id": "tHQ7hq4YetJz",
        "colab_type": "code",
        "colab": {}
      },
      "cell_type": "code",
      "source": [
        "def initialize_parameters():\n",
        "    \"\"\"\n",
        "    Inicializa los parámetros (Pesos) para construir la red neuronal convolucional con tensorflow. El tamaño es\n",
        "                        W1 : [4, 4, 3, 8]\n",
        "                        W2 : [2, 2, 8, 16]\n",
        "    Returna:\n",
        "    parameters -- Un diccionario de tensores que contiene W1, W2\n",
        "    \"\"\"\n",
        "    \n",
        "    tf.set_random_seed(1)                              # \n",
        "        \n",
        "    #### Haga su código áca ### (≈2 lines) usar tf.get_variable(\"W1\", [4, 4, 3, 8], initializer = tf.contrib.layers.xavier_initializer(seed = 0))\n",
        "#los dos primeros cuatros son el filtro de tres canales\n",
        "    W1 = tf.get_variable('w1',[4,4,3,8],initializer=tf.contrib.layers.xavier_initializer(seed = 0))\n",
        "    W2 = tf.get_variable('w2',[2,2,8,16],initializer=tf.contrib.layers.xavier_initializer(seed = 0))\n",
        "    \n",
        "    ### Fin ###\n",
        "\n",
        "    parameters = {\"W1\": W1,\n",
        "                  \"W2\": W2}\n",
        "    \n",
        "    return parameters"
      ],
      "execution_count": 0,
      "outputs": []
    },
    {
      "metadata": {
        "id": "DOsZsGCdetMb",
        "colab_type": "code",
        "outputId": "6149a1b6-f95e-4c04-f532-dca9df72ba37",
        "colab": {
          "base_uri": "https://localhost:8080/",
          "height": 303
        }
      },
      "cell_type": "code",
      "source": [
        "tf.reset_default_graph()\n",
        "\n",
        "with tf.Session() as sess_test:\n",
        "    parameters = initialize_parameters()\n",
        "    init = tf.global_variables_initializer()\n",
        "    sess_test.run(init)\n",
        "    print(\"W1 = \" + str(parameters[\"W1\"].eval()[1,1,1]))\n",
        "    print(\"W2 = \" + str(parameters[\"W2\"].eval()[1,1,1]))"
      ],
      "execution_count": 11,
      "outputs": [
        {
          "output_type": "stream",
          "text": [
            "\n",
            "WARNING: The TensorFlow contrib module will not be included in TensorFlow 2.0.\n",
            "For more information, please see:\n",
            "  * https://github.com/tensorflow/community/blob/master/rfcs/20180907-contrib-sunset.md\n",
            "  * https://github.com/tensorflow/addons\n",
            "If you depend on functionality not listed there, please file an issue.\n",
            "\n",
            "WARNING:tensorflow:From /usr/local/lib/python3.6/dist-packages/tensorflow/python/framework/op_def_library.py:263: colocate_with (from tensorflow.python.framework.ops) is deprecated and will be removed in a future version.\n",
            "Instructions for updating:\n",
            "Colocations handled automatically by placer.\n",
            "W1 = [ 0.00131723  0.1417614  -0.04434952  0.09197326  0.14984085 -0.03514394\n",
            " -0.06847463  0.05245192]\n",
            "W2 = [-0.08566415  0.17750949  0.11974221  0.16773748 -0.0830943  -0.08058\n",
            " -0.00577033 -0.14643836  0.24162132 -0.05857408 -0.19055021  0.1345228\n",
            " -0.22779644 -0.1601823  -0.16117483 -0.10286498]\n"
          ],
          "name": "stdout"
        }
      ]
    },
    {
      "metadata": {
        "id": "uAuW8eCletOv",
        "colab_type": "code",
        "colab": {}
      },
      "cell_type": "code",
      "source": [
        "def forward_propagation(X, parameters):\n",
        "    \"\"\"\n",
        "    Implementa la propagación hacia adelante del modelo\n",
        "\n",
        "    CONV2D -> RELU -> MAXPOOL -> CONV2D -> RELU -> MAXPOOL -> FLATTEN -> FULLYCONNECTED\n",
        "    \n",
        "    Argumentos:\n",
        "    X -- placeholder de entrada (ejemplos de entrenamiento), de tamaño (input size, number of examples)\n",
        "    parameters -- Diccionario que contiene los parámetros \"W1\", \"W2\" desde initialize_parameters\n",
        "\n",
        "    Returna:\n",
        "    Z3 -- Salida de la última unidad LINEAR \n",
        "    \"\"\"\n",
        "    \n",
        "    # Obtención de los pesos desde \"parameters\" \n",
        "    W1 = parameters['W1']\n",
        "    W2 = parameters['W2']\n",
        "    \n",
        "    #### Haga su código áca ### \n",
        "    \n",
        "    # CONV2D: stride of 1, padding 'SAME'\n",
        "    \n",
        "    Z1 =tf.nn.conv2d(X,W1,strides = [1,1,1,1],padding=\"SAME\") \n",
        "    \n",
        "    # RELU\n",
        "    \n",
        "    A1 = tf.nn.relu(Z1)  #\n",
        "    \n",
        "    # MAXPOOL: window 8x8, stride 8, padding 'SAME'\n",
        "    \n",
        "    P1 = tf.nn.max_pool(A1,ksize=[1,8,8,1] ,strides= [1,8,8,1],padding='SAME')\n",
        "    \n",
        "    # CONV2D: filters W2, stride 1, padding 'SAME'\n",
        "    \n",
        "    Z2 = tf.nn.conv2d(P1,W2,strides=[1,1,1,1],padding='SAME')\n",
        "    \n",
        "    # RELU\n",
        "    \n",
        "    A2 = tf.nn.relu(Z2)\n",
        "    \n",
        "    # MAXPOOL: window 4x4, stride 4, padding 'SAME'\n",
        "    \n",
        "    P2 = tf.nn.max_pool(A2, ksize = [1,4,4,1],strides =[1,4,4,1],padding='SAME')\n",
        "    \n",
        "    # FLATTEN\n",
        "    \n",
        "    F = tf.contrib.layers.flatten(P2)\n",
        "    \n",
        "#    # FULLY-CONNECTED without non-linear activation function (not not call softmax).\n",
        "#    # 6 neurons in output layer. Hint: one of the arguments should be \"activation_fn=None\" \n",
        "    \n",
        "    Z3 = tf.contrib.layers.fully_connected(F,6,None)\n",
        "    \n",
        "    ### Fin ###\n",
        "\n",
        "    return Z3"
      ],
      "execution_count": 0,
      "outputs": []
    },
    {
      "metadata": {
        "id": "aY1p4MOaetRK",
        "colab_type": "code",
        "outputId": "c0c03cb2-1868-4baa-fd3a-589ddd51cc01",
        "colab": {
          "base_uri": "https://localhost:8080/",
          "height": 143
        }
      },
      "cell_type": "code",
      "source": [
        "tf.reset_default_graph()\n",
        "\n",
        "with tf.Session() as sess:\n",
        "    np.random.seed(1)\n",
        "    X, Y = create_placeholders(64, 64, 3, 6)\n",
        "    parameters = initialize_parameters()\n",
        "    Z3 = forward_propagation(X, parameters)\n",
        "    init = tf.global_variables_initializer()\n",
        "    sess.run(init)\n",
        "    a = sess.run(Z3, {X: np.random.randn(2,64,64,3), Y: np.random.randn(2,6)})\n",
        "    print(\"Z3 = \" + str(a))\n",
        "    print(\"Z3 = \" + str(Z3.shape))"
      ],
      "execution_count": 15,
      "outputs": [
        {
          "output_type": "stream",
          "text": [
            "WARNING:tensorflow:From /usr/local/lib/python3.6/dist-packages/tensorflow/contrib/layers/python/layers/layers.py:1624: flatten (from tensorflow.python.layers.core) is deprecated and will be removed in a future version.\n",
            "Instructions for updating:\n",
            "Use keras.layers.flatten instead.\n",
            "Z3 = [[ 1.4416983  -0.24909672  5.4504995  -0.26189643 -0.20669863  1.3654673 ]\n",
            " [ 1.407085   -0.02573237  5.08928    -0.48669893 -0.40940693  1.2624853 ]]\n",
            "Z3 = (?, 6)\n"
          ],
          "name": "stdout"
        }
      ]
    },
    {
      "metadata": {
        "id": "QKZGs7TretTj",
        "colab_type": "code",
        "colab": {}
      },
      "cell_type": "code",
      "source": [
        "def compute_cost(Z3, Y):\n",
        "    \"\"\"\n",
        "    Calcula la función de costo\n",
        "    \n",
        "    Argumentos:\n",
        "    Z3 -- Salida del forward propagation (Salida de la última unidad LINEAR), ode tamaño (6, Número de ejemplos)\n",
        "    Y -- placeholders con el vector de etiquetas \"true\", del mismo tamaño que Z3\n",
        "\n",
        "    Returns:\n",
        "    cost - Tensor de la función de costo\n",
        "    \"\"\"\n",
        "    \n",
        "    #### Haga su código áca ### (≈2 lines)\n",
        "    \n",
        "    cost = tf.reduce_mean(tf.nn.softmax_cross_entropy_with_logits(logits = Z3, labels = Y))\n",
        "    \n",
        "    ### Fin ###\n",
        "    \n",
        "    return cost   "
      ],
      "execution_count": 0,
      "outputs": []
    },
    {
      "metadata": {
        "id": "-YD6L9cRetV-",
        "colab_type": "code",
        "outputId": "eaddc09d-1baa-4ff8-df96-c360205d414c",
        "colab": {
          "base_uri": "https://localhost:8080/",
          "height": 196
        }
      },
      "cell_type": "code",
      "source": [
        "tf.reset_default_graph()\n",
        "\n",
        "with tf.Session() as sess:\n",
        "    np.random.seed(1)\n",
        "    X, Y = create_placeholders(64, 64, 3, 6)\n",
        "    parameters = initialize_parameters()\n",
        "    Z3 = forward_propagation(X, parameters)\n",
        "    cost = compute_cost(Z3, Y)\n",
        "    init = tf.global_variables_initializer()\n",
        "    sess.run(init)\n",
        "    a = sess.run(cost, {X: np.random.randn(4,64,64,3), Y: np.random.randn(4,6)})\n",
        "    print(\"cost = \" + str(a))"
      ],
      "execution_count": 17,
      "outputs": [
        {
          "output_type": "stream",
          "text": [
            "WARNING:tensorflow:From <ipython-input-16-e640e39a1b44>:15: softmax_cross_entropy_with_logits (from tensorflow.python.ops.nn_ops) is deprecated and will be removed in a future version.\n",
            "Instructions for updating:\n",
            "\n",
            "Future major versions of TensorFlow will allow gradients to flow\n",
            "into the labels input on backprop by default.\n",
            "\n",
            "See `tf.nn.softmax_cross_entropy_with_logits_v2`.\n",
            "\n",
            "cost = 4.6648707\n"
          ],
          "name": "stdout"
        }
      ]
    },
    {
      "metadata": {
        "id": "c5OPpNUufjbf",
        "colab_type": "code",
        "outputId": "5d9ccaa9-4232-4c3c-84f5-0d43f54cb347",
        "colab": {
          "base_uri": "https://localhost:8080/",
          "height": 784
        }
      },
      "cell_type": "code",
      "source": [
        "def model(X_train, Y_train, X_test, Y_test, learning_rate = 0.009, num_epochs = 100, minibatch_size = 64, print_cost = True):\n",
        "    \"\"\"\n",
        "    Implementa una Red Neuronal Convolucional de 3-Capas en Tensorflow:\n",
        "    CONV2D -> RELU -> MAXPOOL -> CONV2D -> RELU -> MAXPOOL -> FLATTEN -> FULLYCONNECTED\n",
        "    \n",
        "    Argumentos:\n",
        "    X_train -- Conjunto de entrenamiento, de tamaño (None, 64, 64, 3)\n",
        "    Y_train -- Etiquetas del conjunto de entrenamiento, de tamaño (None, n_y = 6)\n",
        "    X_test -- Conjunto de datos de Test, de tamaño (None, 64, 64, 3)\n",
        "    Y_test -- Etiquetas del conjunto de Test, de tamaño  (None, n_y = 6)\n",
        "    learning_rate -- factor de aprendizaje en la optimización\n",
        "    num_epochs -- Número de epocas en el ciclo de optimización\n",
        "    minibatch_size -- Tamaño del minibatch\n",
        "    print_cost -- True: imprime el costo cada 100 epocas\n",
        "    \n",
        "    Returna:\n",
        "    train_accuracy -- Número Real, Accuracy del conjunto de entrenamiento (X_train)\n",
        "    test_accuracy -- Número Real, Accuracy del conjunto de Test(X_test)\n",
        "    parameters -- parameters aprendidos por el modelo. Estos pueden ser usados para predecir.\n",
        "    \"\"\"\n",
        "    \n",
        "    ops.reset_default_graph()                         # Permite correr nuevamente el modelo sin sobreescribir las tf variables\n",
        "    tf.set_random_seed(1)                             #  (tensorflow seed)\n",
        "    seed = 3                                          # \n",
        "    (m, n_H0, n_W0, n_C0) = X_train.shape             \n",
        "    n_y = Y_train.shape[1]                            \n",
        "    costs = []                                        # Para almacenar el costo\n",
        "    \n",
        "    # Crear los PlaceHolders\n",
        "          \n",
        "    X, Y = create_placeholders(n_H0, n_W0, n_C0,n_y)\n",
        "    \n",
        "    # Inicializar Parámetros\n",
        "    \n",
        "    parameters = initialize_parameters()\n",
        "    \n",
        "    # Forward propagation: Construir el forward propagation en el grafo de tensorflow\n",
        "    \n",
        "    Z3 = forward_propagation(X, parameters)\n",
        "        \n",
        "    # Cost function: Incluir la  función de costo en el grafo de tensorflow\n",
        "#        cuanto se demoro la red en prededir\n",
        "    cost = compute_cost(Z3,Y)\n",
        "    \n",
        "    # Backpropagation: Define el optimizador. Usar AdamOptimizer para minimizar el costo.\n",
        "\n",
        "    optimizer = tf.train.AdamOptimizer().minimize(cost)  \n",
        "    \n",
        "    # Inicializar todas las variables globales\n",
        "    \n",
        "    init = tf.global_variables_initializer()\n",
        "     \n",
        "    # Iniciar la sesión \n",
        "    with tf.Session() as sess:\n",
        "        \n",
        "        # Run init\n",
        "        sess.run(init)\n",
        "        \n",
        "        # Loop de entrenamiento\n",
        "        for epoch in range(num_epochs):\n",
        "\n",
        "            minibatch_cost = 0.\n",
        "            num_minibatches = int(m / minibatch_size) # número de minibatches de tamaño minibatch_size en el conjunto de entrenamiento          seed = seed + 1\n",
        "            minibatches = random_mini_batches(X_train, Y_train, minibatch_size, seed)\n",
        "\n",
        "            for minibatch in minibatches:\n",
        "\n",
        "                # Seleccionar un minibatch\n",
        "\n",
        "                (minibatch_X, minibatch_Y) = minibatch\n",
        "                \n",
        "                # IMPORTANT: The line that runs the graph on a minibatch.\n",
        "                \n",
        "                # Run the session to execute the optimizer and the cost, the feedict should contain a minibatch for (X,Y).\n",
        "\n",
        "                _ , temp_cost = sess.run([optimizer, cost], {X: minibatch_X, Y: minibatch_Y})\n",
        "                \n",
        "                minibatch_cost += temp_cost / num_minibatches\n",
        "                \n",
        "            # Imprime el costo\n",
        "            \n",
        "            if print_cost == True and epoch % 5 == 0:\n",
        "                print (\"Cost after epoch %i: %f\" % (epoch, minibatch_cost))\n",
        "            if print_cost == True and epoch % 1 == 0:\n",
        "                costs.append(minibatch_cost)  \n",
        "                \n",
        "# Graficar la función de costo\n",
        "        plt.figure(2)\n",
        "        plt.plot(np.squeeze(costs))\n",
        "        plt.ylabel('cost')\n",
        "        plt.xlabel('iterations (per tens)')\n",
        "        plt.title(\"Learning rate =\" + str(learning_rate))\n",
        "        plt.show()       \n",
        "        \n",
        "# Calcular las predicciones correctas\n",
        "        predict_op = tf.argmax(Z3, 1)\n",
        "        correct_prediction = tf.equal(predict_op, tf.argmax(Y, 1)) \n",
        "    \n",
        " # Calcular la predicción sobre el conjunto de test \n",
        "        accuracy = tf.reduce_mean(tf.cast(correct_prediction, \"float\"))\n",
        "        print(accuracy)\n",
        "        train_accuracy = accuracy.eval({X: X_train, Y: Y_train})\n",
        "        test_accuracy = accuracy.eval({X: X_test, Y: Y_test})\n",
        "        print(\"Train Accuracy:\", train_accuracy)\n",
        "        print(\"Test Accuracy:\", test_accuracy)\n",
        "                \n",
        "        return train_accuracy, test_accuracy, parameters\n",
        "    \n",
        "_, _, parameters = model(X_train, Y_train, X_test, Y_test)    "
      ],
      "execution_count": 18,
      "outputs": [
        {
          "output_type": "stream",
          "text": [
            "Cost after epoch 0: 0.858208\n",
            "Cost after epoch 5: 0.053974\n",
            "Cost after epoch 10: 0.016214\n",
            "Cost after epoch 15: 0.006212\n",
            "Cost after epoch 20: 0.002268\n",
            "Cost after epoch 25: 0.000875\n",
            "Cost after epoch 30: 0.000331\n",
            "Cost after epoch 35: 0.000204\n",
            "Cost after epoch 40: 0.000110\n",
            "Cost after epoch 45: 0.000048\n",
            "Cost after epoch 50: 0.000019\n",
            "Cost after epoch 55: 0.000022\n",
            "Cost after epoch 60: 0.000015\n",
            "Cost after epoch 65: 0.000010\n",
            "Cost after epoch 70: 0.000008\n",
            "Cost after epoch 75: 0.000005\n",
            "Cost after epoch 80: 0.000003\n",
            "Cost after epoch 85: 0.000009\n",
            "Cost after epoch 90: 0.000005\n",
            "Cost after epoch 95: 0.000003\n"
          ],
          "name": "stdout"
        },
        {
          "output_type": "display_data",
          "data": {
            "image/png": "[encoded data removed]",
            "text/plain": [
              "<Figure size 576x396 with 1 Axes>"
            ]
          },
          "metadata": {
            "tags": []
          }
        },
        {
          "output_type": "stream",
          "text": [
            "Tensor(\"Mean_1:0\", shape=(), dtype=float32)\n",
            "Train Accuracy: 1.0\n",
            "Test Accuracy: 1.0\n"
          ],
          "name": "stdout"
        }
      ]
    }
  ]
}